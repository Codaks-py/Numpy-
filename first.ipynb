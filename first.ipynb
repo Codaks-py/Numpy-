{
 "cells": [
  {
   "cell_type": "code",
   "execution_count": 5,
   "id": "e1520a7f",
   "metadata": {},
   "outputs": [
    {
     "name": "stdout",
     "output_type": "stream",
     "text": [
      "46\n"
     ]
    }
   ],
   "source": [
    "d= 23\n",
    "l = 2\n",
    "num = d*l\n",
    "print(num)\n"
   ]
  },
  {
   "cell_type": "code",
   "execution_count": 13,
   "id": "5ef6deb1",
   "metadata": {},
   "outputs": [
    {
     "data": {
      "text/plain": [
       "array([1, 2, 3, 4, 5])"
      ]
     },
     "execution_count": 13,
     "metadata": {},
     "output_type": "execute_result"
    }
   ],
   "source": [
    "import numpy as np\n",
    "my_list = [1,2,3,4,5]\n",
    "my_array = np.array(my_list)\n",
    "my_array\n"
   ]
  },
  {
   "cell_type": "code",
   "execution_count": 16,
   "id": "ed608c75",
   "metadata": {},
   "outputs": [
    {
     "name": "stdout",
     "output_type": "stream",
     "text": [
      "ID Array \t [1 2 3 4 5]\n",
      "Shape:  (5,)\n",
      "Rank: 1\n",
      "size: 5\n",
      "Data type:  int32\n"
     ]
    }
   ],
   "source": [
    "print(\"ID Array \\t\", my_array)\n",
    "print(\"Shape: \", my_array.shape)\n",
    "print(\"Rank:\", my_array.ndim)\n",
    "print(\"size:\", my_array.size)\n",
    "print(\"Data type: \", my_array.dtype)"
   ]
  },
  {
   "cell_type": "code",
   "execution_count": 21,
   "id": "0b251ae1",
   "metadata": {},
   "outputs": [
    {
     "data": {
      "text/plain": [
       "array([[ 1.,  2.,  3.,  4.],\n",
       "       [ 2.,  3.,  6.,  4.],\n",
       "       [ 2., -2.,  4., -7.]])"
      ]
     },
     "execution_count": 21,
     "metadata": {},
     "output_type": "execute_result"
    }
   ],
   "source": [
    "# for nested lists\n",
    "my_list2 = ([ [1,2,3,4], [2.,3.,6.,4], [2,-2,4,-7] ])\n",
    "Arra = np.array(my_list2)\n",
    "Arra"
   ]
  },
  {
   "cell_type": "code",
   "execution_count": 20,
   "id": "761af34e",
   "metadata": {},
   "outputs": [
    {
     "name": "stdout",
     "output_type": "stream",
     "text": [
      "3D Array \n",
      " [[[ 1.  2.  3.  4.]]\n",
      "\n",
      " [[ 2.  3.  6.  4.]]\n",
      "\n",
      " [[ 2. -2.  4. -7.]]]\n"
     ]
    }
   ],
   "source": [
    "print(\"3D Array \\n\", Arra)"
   ]
  },
  {
   "cell_type": "code",
   "execution_count": 24,
   "id": "45ea7a00",
   "metadata": {},
   "outputs": [
    {
     "name": "stdout",
     "output_type": "stream",
     "text": [
      "Shape :  (3, 1, 4)\n",
      "Size:  12\n",
      "Rank:  3\n",
      "Data Type: float64\n"
     ]
    }
   ],
   "source": [
    "print(\"Shape : \", Arra.shape)\n",
    "print(\"Size: \", Arra.size)\n",
    "print(\"Rank: \", Arra.ndim)\n",
    "print(\"Data Type:\", Arra.dtype)\n",
    "# just like solving matrix, the above array is a 3x4 matrix,\n",
    "# to know what matrix it is, we use the function shape.\n",
    "# to know the numbers of value in the matrix, we use the size function.\n",
    "# to the rank or should i say the number of lists we use the ndim function\n",
    "# lastly, but not the least though, we use the dtype function.\n",
    "# Omo... Naa God oo"
   ]
  },
  {
   "cell_type": "code",
   "execution_count": 40,
   "id": "492b7da0",
   "metadata": {},
   "outputs": [
    {
     "name": "stdout",
     "output_type": "stream",
     "text": [
      "Nums:   [ 0  1  2  3  4  5  6  7  8  9 10 11 12 13 14 15 16 17 18 19], \n",
      "Number: [ 1  2  3  4  5  6  7  8  9 10 11 12 13 14 15 16 17 18 19 20]\n"
     ]
    }
   ],
   "source": [
    "# We are using the arange to assign values in a particular range to a variable\n",
    "nums = np.arange(20)\n",
    "number = (nums+1)\n",
    "print(f\"Nums:   {nums}, \\nNumber: {number}\")\n",
    "# As you know reading of numbers start from Zero, So i added 1 to it so when printing it wil start from 1 and not zero"
   ]
  },
  {
   "cell_type": "code",
   "execution_count": 28,
   "id": "68fb4084",
   "metadata": {},
   "outputs": [
    {
     "name": "stdout",
     "output_type": "stream",
     "text": [
      "int32\n",
      "<class 'numpy.ndarray'>\n"
     ]
    }
   ],
   "source": [
    "print(nums.dtype)\n",
    "print(type(nums))"
   ]
  },
  {
   "cell_type": "code",
   "execution_count": 44,
   "id": "178f64da",
   "metadata": {},
   "outputs": [
    {
     "name": "stdout",
     "output_type": "stream",
     "text": [
      "[[[ 1  2  3  4  5]\n",
      "  [ 6  7  8  9 10]]\n",
      "\n",
      " [[11 12 13 14 15]\n",
      "  [16 17 18 19 20]]]\n",
      "int32\n",
      "<class 'numpy.ndarray'>\n"
     ]
    }
   ],
   "source": [
    "# now just like we mention earlier about matrix...the above variable nums has a matrix of 1x20 matrix\n",
    "# let assume we need to reshape the matrix or after generating the values we need to assign it to a matrix, \n",
    "# then we can use the reshape function just like this\n",
    "\n",
    "reshaped = number.reshape(2,2,5)\n",
    "print(reshaped)\n",
    "print(reshaped.dtype)\n",
    "print(type(reshaped))"
   ]
  },
  {
   "cell_type": "code",
   "execution_count": 26,
   "id": "45cd5b65",
   "metadata": {},
   "outputs": [
    {
     "name": "stdout",
     "output_type": "stream",
     "text": [
      "[[0. 0. 0.]\n",
      " [0. 0. 0.]]\n",
      "\n",
      " [[1. 1. 1.]\n",
      " [1. 1. 1.]]\n",
      "\n",
      " [[3.+0.j 3.+0.j 3.+0.j 3.+0.j 3.+0.j]\n",
      " [3.+0.j 3.+0.j 3.+0.j 3.+0.j 3.+0.j]]\n"
     ]
    }
   ],
   "source": [
    "# Now we move to filling a list with a unique identity\n",
    "all_zeros = np.zeros((2,3))\n",
    "print(all_zeros)\n",
    "# For just one\n",
    "all_ones = np.ones((2,3))\n",
    "print('\\n',all_ones)\n",
    "'''\n",
    "gbo = all_zeros.append(all_ones)\n",
    "print(all_zeros)\n",
    "'''\n",
    "# To do the same for any other values you use the function full, like this\n",
    "all_full = np.full((2,5), 3)\n",
    "print('\\n',all_full)"
   ]
  },
  {
   "cell_type": "code",
   "execution_count": 25,
   "id": "514892ad",
   "metadata": {},
   "outputs": [
    {
     "name": "stdout",
     "output_type": "stream",
     "text": [
      "Grenerating Random values \n",
      "[[0.85154272 0.48429858 0.40117782 0.94861401 0.59751011]\n",
      " [0.18838118 0.00754451 0.68035505 0.46527027 0.86892876]]\n",
      "Empty Array\n",
      "[[0. 0. 0.]\n",
      " [0. 0. 0.]]\n",
      "[0.         0.22222222 0.44444444 0.66666667 0.88888889 1.11111111\n",
      " 1.33333333 1.55555556 1.77777778 2.        ]\n"
     ]
    },
    {
     "data": {
      "text/plain": [
       "array([[0.        , 2.        ],\n",
       "       [0.18367347, 2.14285714],\n",
       "       [0.36734694, 2.28571429],\n",
       "       [0.55102041, 2.42857143],\n",
       "       [0.73469388, 2.57142857],\n",
       "       [0.91836735, 2.71428571],\n",
       "       [1.10204082, 2.85714286],\n",
       "       [1.28571429, 3.        ],\n",
       "       [1.46938776, 3.14285714],\n",
       "       [1.65306122, 3.28571429],\n",
       "       [1.83673469, 3.42857143],\n",
       "       [2.02040816, 3.57142857],\n",
       "       [2.20408163, 3.71428571],\n",
       "       [2.3877551 , 3.85714286],\n",
       "       [2.57142857, 4.        ],\n",
       "       [2.75510204, 4.14285714],\n",
       "       [2.93877551, 4.28571429],\n",
       "       [3.12244898, 4.42857143],\n",
       "       [3.30612245, 4.57142857],\n",
       "       [3.48979592, 4.71428571],\n",
       "       [3.67346939, 4.85714286],\n",
       "       [3.85714286, 5.        ],\n",
       "       [4.04081633, 5.14285714],\n",
       "       [4.2244898 , 5.28571429],\n",
       "       [4.40816327, 5.42857143],\n",
       "       [4.59183673, 5.57142857],\n",
       "       [4.7755102 , 5.71428571],\n",
       "       [4.95918367, 5.85714286],\n",
       "       [5.14285714, 6.        ],\n",
       "       [5.32653061, 6.14285714],\n",
       "       [5.51020408, 6.28571429],\n",
       "       [5.69387755, 6.42857143],\n",
       "       [5.87755102, 6.57142857],\n",
       "       [6.06122449, 6.71428571],\n",
       "       [6.24489796, 6.85714286],\n",
       "       [6.42857143, 7.        ],\n",
       "       [6.6122449 , 7.14285714],\n",
       "       [6.79591837, 7.28571429],\n",
       "       [6.97959184, 7.42857143],\n",
       "       [7.16326531, 7.57142857],\n",
       "       [7.34693878, 7.71428571],\n",
       "       [7.53061224, 7.85714286],\n",
       "       [7.71428571, 8.        ],\n",
       "       [7.89795918, 8.14285714],\n",
       "       [8.08163265, 8.28571429],\n",
       "       [8.26530612, 8.42857143],\n",
       "       [8.44897959, 8.57142857],\n",
       "       [8.63265306, 8.71428571],\n",
       "       [8.81632653, 8.85714286],\n",
       "       [9.        , 9.        ]])"
      ]
     },
     "execution_count": 25,
     "metadata": {},
     "output_type": "execute_result"
    }
   ],
   "source": [
    "import numpy as np\n",
    "# the random function adds random values to an array \n",
    "rn = np.random.random((2,5))\n",
    "print(f'Grenerating Random values \\n{rn}')\n",
    "\n",
    "\n",
    "# creating an empty array\n",
    "# Just like the zero function, empty function performs the functions of zeros funtion.\n",
    "em = np.empty((2,3))\n",
    "print(f'Empty Array\\n{em}')\n",
    "\n",
    "\n",
    "#then also the linspace function..\n",
    "# it space values within a range i.e let assume we are assigning values in range of 0-2 to an array and we want to have the size to be about 9 values, \n",
    "# we use the linspace function like this\n",
    "lin = np.linspace(0,2, 10)\n",
    "print(lin)\n",
    "\n",
    "\n",
    "# But i discovered something\n",
    "nh = np.linspace((0,2),9)\n",
    "nh"
   ]
  },
  {
   "cell_type": "code",
   "execution_count": 20,
   "id": "75590f58",
   "metadata": {},
   "outputs": [
    {
     "data": {
      "text/plain": [
       "array([1, 2, 3, 3, 3, 2, 2, 3, 1])"
      ]
     },
     "execution_count": 20,
     "metadata": {},
     "output_type": "execute_result"
    }
   ],
   "source": [
    "# remember appending lists to another..yeah this is just like that\n",
    "# making multiple list into a single list using the flatten function.\n",
    "add = np.array([[1,2,3], [3,3,2],[2,3,1]])\n",
    "flar = add.flatten()\n",
    "flar"
   ]
  },
  {
   "cell_type": "code",
   "execution_count": 27,
   "id": "ec12f067",
   "metadata": {},
   "outputs": [
    {
     "name": "stdout",
     "output_type": "stream",
     "text": [
      "\n",
      " [[3.+0.j 3.+0.j 3.+0.j]\n",
      " [3.+0.j 3.+0.j 3.+0.j]]\n"
     ]
    }
   ],
   "source": [
    "# To do the same for any other values you use the full function, like this, also making the values in complex format.\n",
    "all_full = np.full((2,3), 3, dtype=complex)\n",
    "print('\\n',all_full)"
   ]
  },
  {
   "cell_type": "code",
   "execution_count": 35,
   "id": "4d718481",
   "metadata": {},
   "outputs": [
    {
     "name": "stdout",
     "output_type": "stream",
     "text": [
      "1\n"
     ]
    },
    {
     "data": {
      "text/plain": [
       "array([[1, 2, 3],\n",
       "       [3, 3, 2],\n",
       "       [2, 3, 3]])"
      ]
     },
     "execution_count": 35,
     "metadata": {},
     "output_type": "execute_result"
    }
   ],
   "source": [
    "print(add[2][2])\n",
    "# indexing\n",
    "# Let assign a new value to it\n",
    "add[2][2]= 3\n",
    "add"
   ]
  },
  {
   "cell_type": "code",
   "execution_count": 37,
   "id": "8cf754f0",
   "metadata": {},
   "outputs": [
    {
     "name": "stdout",
     "output_type": "stream",
     "text": [
      "(3+0j)\n"
     ]
    },
    {
     "data": {
      "text/plain": [
       "array([[3.+0.j, 3.+0.j, 3.+0.j],\n",
       "       [3.+0.j, 3.+0.j, 4.+0.j]])"
      ]
     },
     "execution_count": 37,
     "metadata": {},
     "output_type": "execute_result"
    }
   ],
   "source": [
    "print(all_full[1][2])\n",
    "# indexing\n",
    "all_full[1][2]=4\n",
    "all_full"
   ]
  },
  {
   "cell_type": "code",
   "execution_count": 50,
   "id": "66c1bd36",
   "metadata": {},
   "outputs": [
    {
     "name": "stdout",
     "output_type": "stream",
     "text": [
      "[[0.39166014 0.42043444 0.47038074 0.3148193 ]\n",
      " [0.82626625 0.94136321 0.67309872 0.32927718]]\n",
      "[[0.94136321 0.67309872]]\n",
      "[0.42043444 0.47038074]\n"
     ]
    },
    {
     "data": {
      "text/plain": [
       "array([2, 3])"
      ]
     },
     "execution_count": 50,
     "metadata": {},
     "output_type": "execute_result"
    }
   ],
   "source": [
    "# Slicing\n",
    "\n",
    "a = np.random.random((2,4))\n",
    "print(a)\n",
    "\n",
    "aa = a[1:3, 1:3]\n",
    "print(aa)\n",
    "\n",
    "c = a.flatten()\n",
    "ca = c[1:3]\n",
    "print(ca)\n",
    "\n",
    "b = np.array([1,2,3,4,6])\n",
    "ab = b[1:3]\n",
    "ab"
   ]
  },
  {
   "cell_type": "code",
   "execution_count": 15,
   "id": "1437b49d",
   "metadata": {},
   "outputs": [
    {
     "name": "stdout",
     "output_type": "stream",
     "text": [
      "[[ 1  2  3  4  5  6  7  8]\n",
      " [ 9 10 11 12 13 14 15 16]\n",
      " [17 18 19 20 21 22 23 24]\n",
      " [25 26 27 28 29 30 31 32]]\n",
      "Small\n",
      "small\n",
      "small\n",
      "small\n",
      "small\n"
     ]
    },
    {
     "data": {
      "text/plain": [
       "array([[ True,  True,  True,  True,  True,  True,  True,  True],\n",
       "       [ True,  True,  True,  True,  True,  True,  True,  True],\n",
       "       [ True,  True,  True,  True, False, False, False, False],\n",
       "       [False, False, False, False, False, False, False, False]])"
      ]
     },
     "execution_count": 15,
     "metadata": {},
     "output_type": "execute_result"
    }
   ],
   "source": [
    "import numpy as np\n",
    "king = np.arange(32).reshape(4,8)\n",
    "print(king + 1)\n",
    "\n",
    "# So i discovered this from a syntax from an error message , actually it two, .all() and .any(), guess they perform same funtion.\n",
    "if king.all() <= 20:\n",
    "    print(\"Small\")\n",
    "\n",
    "for i in king <= 20:\n",
    "    print('small')\n",
    "    \n",
    "king < 20"
   ]
  },
  {
   "cell_type": "code",
   "execution_count": 16,
   "id": "e83775f2",
   "metadata": {},
   "outputs": [
    {
     "data": {
      "text/plain": [
       "array([ 0,  1,  2,  3,  4,  5,  6,  7,  8,  9, 10, 11, 12, 13, 14, 15, 16,\n",
       "       17, 18, 19])"
      ]
     },
     "execution_count": 16,
     "metadata": {},
     "output_type": "execute_result"
    }
   ],
   "source": [
    "king[ king < 20 ]\n",
    "# getting the values which is less than 20 from the generated array"
   ]
  },
  {
   "cell_type": "code",
   "execution_count": 17,
   "id": "0ce5a720",
   "metadata": {},
   "outputs": [
    {
     "data": {
      "text/plain": [
       "array([[ 5,  7],\n",
       "       [ 9, 11]])"
      ]
     },
     "execution_count": 17,
     "metadata": {},
     "output_type": "execute_result"
    }
   ],
   "source": [
    "# Also numpy can perform maths functions as well.\n",
    "# like the add, subtract, multiply, divede, sqrt functions and the likes\n",
    "x = np.arange(0,4).reshape(2,2)\n",
    "y = np.arange(5,9).reshape(2,2)\n",
    "\n",
    "add = np.add(x,y)\n",
    "add\n",
    "# likewise the other functions \n",
    "# when it comes to sqrt, one positional value is passed.\n"
   ]
  },
  {
   "cell_type": "code",
   "execution_count": 24,
   "id": "730a2ac2",
   "metadata": {},
   "outputs": [
    {
     "name": "stdout",
     "output_type": "stream",
     "text": [
      "[[0 1 2 3 4]\n",
      " [5 6 7 8 9]]\n",
      "\n",
      "Transpose: \n",
      "[[0 5]\n",
      " [1 6]\n",
      " [2 7]\n",
      " [3 8]\n",
      " [4 9]]\n"
     ]
    }
   ],
   "source": [
    "# Transpose of a matrix, using the .T function\n",
    "arr = np.arange(10).reshape(2,5)\n",
    "print(arr)\n",
    "\n",
    "# Tranpose\n",
    "Tarr =arr.T\n",
    "print()\n",
    "print(f'Transpose: \\n{Tarr}')"
   ]
  },
  {
   "cell_type": "code",
   "execution_count": 25,
   "id": "38ff782a",
   "metadata": {},
   "outputs": [
    {
     "data": {
      "text/plain": [
       "array([[25, 30, 35, 40, 45],\n",
       "       [30, 37, 44, 51, 58],\n",
       "       [35, 44, 53, 62, 71],\n",
       "       [40, 51, 62, 73, 84],\n",
       "       [45, 58, 71, 84, 97]])"
      ]
     },
     "execution_count": 25,
     "metadata": {},
     "output_type": "execute_result"
    }
   ],
   "source": [
    "# multiplying the matrix and the transpose\n",
    "mut = np.dot(Tarr, arr)\n",
    "mut"
   ]
  },
  {
   "cell_type": "code",
   "execution_count": 39,
   "id": "42f48d32",
   "metadata": {},
   "outputs": [
    {
     "name": "stdout",
     "output_type": "stream",
     "text": [
      "[[ 1.60150759 -5.5181706   0.66098417 -7.49469946 -1.63196323]\n",
      " [-0.80071822 -8.00466249 -3.73420082 18.7995839  -8.29967963]]\n",
      "\n",
      "Mean : -1.4422018785001494\n",
      "STD : 7.566077971274948\n",
      "Median : -2.6830820240706528\n",
      "Max : 18.79958390248895\n",
      "Min : -8.299679632040151\n",
      "AvgMin : 9\n",
      "AvgMax : 8\n"
     ]
    }
   ],
   "source": [
    "ary = 10 * np.random.randn(2,5)\n",
    "print(ary)\n",
    "print()\n",
    "# Just like the pandas function, to calculate mean, Max, median, std, \n",
    "print(f\"Mean : {np.mean(ary)}\")\n",
    "print(f\"STD : {np.std(ary)}\")\n",
    "print(f\"Median : {np.median(ary)}\")\n",
    "print(f\"Max : {np.max(ary)}\")\n",
    "print(f\"Min : {np.min(ary)}\")\n",
    "print(f\"AvgMin : {np.argmin(ary)}\")\n",
    "print(f\"AvgMax : {np.argmax(ary)}\")\n"
   ]
  },
  {
   "cell_type": "code",
   "execution_count": null,
   "id": "d48e996c",
   "metadata": {},
   "outputs": [],
   "source": []
  }
 ],
 "metadata": {
  "kernelspec": {
   "display_name": "Python 3 (ipykernel)",
   "language": "python",
   "name": "python3"
  },
  "language_info": {
   "codemirror_mode": {
    "name": "ipython",
    "version": 3
   },
   "file_extension": ".py",
   "mimetype": "text/x-python",
   "name": "python",
   "nbconvert_exporter": "python",
   "pygments_lexer": "ipython3",
   "version": "3.9.5"
  }
 },
 "nbformat": 4,
 "nbformat_minor": 5
}
